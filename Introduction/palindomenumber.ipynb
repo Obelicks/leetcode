{
 "cells": [
  {
   "cell_type": "code",
   "execution_count": null,
   "metadata": {},
   "outputs": [],
   "source": [
    "x = 121\n",
    "\n",
    "val = [num for num in str(x)]\n",
    "for i in range(len(val)):\n",
    "    if i >= len(val)/2:\n",
    "        print(True)\n",
    "    if val[i] != val[-1*(i+1)]:\n",
    "        print(False)\n",
    "print(True)"
   ]
  }
 ],
 "metadata": {
  "kernelspec": {
   "display_name": "Python 3",
   "language": "python",
   "name": "python3"
  },
  "language_info": {
   "codemirror_mode": {
    "name": "ipython",
    "version": 3
   },
   "file_extension": ".py",
   "mimetype": "text/x-python",
   "name": "python",
   "nbconvert_exporter": "python",
   "pygments_lexer": "ipython3",
   "version": "3.11.3"
  },
  "orig_nbformat": 4
 },
 "nbformat": 4,
 "nbformat_minor": 2
}
