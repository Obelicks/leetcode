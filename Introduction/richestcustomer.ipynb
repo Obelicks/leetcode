{
 "cells": [
  {
   "cell_type": "code",
   "execution_count": null,
   "metadata": {},
   "outputs": [],
   "source": [
    "customer = [[1,2,3],\n",
    "            [3,4,5],\n",
    "            [5,6,7]]"
   ]
  },
  {
   "cell_type": "code",
   "execution_count": null,
   "metadata": {},
   "outputs": [],
   "source": [
    "def richest_customer(array: int[[]]):\n",
    "    top_customer = 0\n",
    "    for i in customer:\n",
    "        money = 0 \n",
    "        for j in i:\n",
    "            money = money + j \n",
    "        top_customer = max(top_customer, money)\n",
    "    return(top_customer)"
   ]
  }
 ],
 "metadata": {
  "kernelspec": {
   "display_name": "Python 3",
   "language": "python",
   "name": "python3"
  },
  "language_info": {
   "codemirror_mode": {
    "name": "ipython",
    "version": 3
   },
   "file_extension": ".py",
   "mimetype": "text/x-python",
   "name": "python",
   "nbconvert_exporter": "python",
   "pygments_lexer": "ipython3",
   "version": "3.11.3"
  },
  "orig_nbformat": 4
 },
 "nbformat": 4,
 "nbformat_minor": 2
}
