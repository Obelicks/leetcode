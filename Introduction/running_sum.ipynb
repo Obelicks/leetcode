{
 "cells": [
  {
   "cell_type": "code",
   "execution_count": null,
   "metadata": {},
   "outputs": [],
   "source": [
    "#Simple solution. Enumerate over the list, and keep track of the \"current\" sum, which is then put on index \"i\"\n",
    "def running_sum_pointer(l1):\n",
    "    current = 0\n",
    "    for i,val in enumerate(l1):\n",
    "        current += val\n",
    "        l1[i] = current\n",
    "    return(l1)"
   ]
  },
  {
   "cell_type": "code",
   "execution_count": null,
   "metadata": {},
   "outputs": [],
   "source": [
    "#Other way of doing it. Doubles the lookup in the array but requires no \"current\" variable, to be written or read.\n",
    "def running_sum(l1):\n",
    "    for i in range(len(l1)):\n",
    "        if i != 0:\n",
    "            l1[i] = l1[i] + l1[i-1]\n",
    "    return(l1)"
   ]
  },
  {
   "cell_type": "code",
   "execution_count": null,
   "metadata": {},
   "outputs": [],
   "source": [
    "from random import randint\n",
    "testlist = []\n",
    "for i in range(1000000):\n",
    "    testlist.append(randint(1,100))"
   ]
  },
  {
   "cell_type": "code",
   "execution_count": null,
   "metadata": {},
   "outputs": [],
   "source": [
    "running_sum_pointer(testlist)"
   ]
  },
  {
   "cell_type": "code",
   "execution_count": null,
   "metadata": {},
   "outputs": [],
   "source": [
    "running_sum(testlist)"
   ]
  }
 ],
 "metadata": {
  "kernelspec": {
   "display_name": "Python 3",
   "language": "python",
   "name": "python3"
  },
  "language_info": {
   "codemirror_mode": {
    "name": "ipython",
    "version": 3
   },
   "file_extension": ".py",
   "mimetype": "text/x-python",
   "name": "python",
   "nbconvert_exporter": "python",
   "pygments_lexer": "ipython3",
   "version": "3.11.3"
  },
  "orig_nbformat": 4
 },
 "nbformat": 4,
 "nbformat_minor": 2
}
