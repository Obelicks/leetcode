{
 "cells": [
  {
   "cell_type": "markdown",
   "metadata": {},
   "source": []
  },
  {
   "cell_type": "code",
   "execution_count": null,
   "metadata": {},
   "outputs": [],
   "source": [
    "#O(k)\n",
    "def integer_squared(x: int) -> int:\n",
    "    if x < 2:\n",
    "            return x\n",
    "    for i in range(x // 2, 0, -1): #Floor divison on X and working backwards toward the square root\n",
    "        if i*i <= x:\n",
    "            return(i)"
   ]
  },
  {
   "cell_type": "markdown",
   "metadata": {},
   "source": [
    "The binary search algorithm is must faster since, every iteration of the algorithm eliminates half of the remaining possiblities"
   ]
  },
  {
   "cell_type": "code",
   "execution_count": null,
   "metadata": {},
   "outputs": [],
   "source": [
    "def integer_squared_binary_search(x: int) -> int:\n",
    "    left,right=0,x\n",
    "    while left <= right:\n",
    "        mid = (left+right) // 2    \n",
    "        mid_sqrd = mid*mid\n",
    "        if mid_sqrd <= x:\n",
    "            left = mid+1\n",
    "        else:\n",
    "            right = mid-1\n",
    "    return left - 1"
   ]
  }
 ],
 "metadata": {
  "kernelspec": {
   "display_name": "Python 3",
   "language": "python",
   "name": "python3"
  },
  "language_info": {
   "codemirror_mode": {
    "name": "ipython",
    "version": 3
   },
   "file_extension": ".py",
   "mimetype": "text/x-python",
   "name": "python",
   "nbconvert_exporter": "python",
   "pygments_lexer": "ipython3",
   "version": "3.10.8"
  },
  "orig_nbformat": 4
 },
 "nbformat": 4,
 "nbformat_minor": 2
}
